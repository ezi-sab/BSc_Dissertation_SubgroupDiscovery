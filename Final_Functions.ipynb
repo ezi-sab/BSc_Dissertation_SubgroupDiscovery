{
 "cells": [
  {
   "cell_type": "markdown",
   "id": "bd16109b",
   "metadata": {},
   "source": [
    "# Functions for final year project"
   ]
  },
  {
   "cell_type": "code",
   "execution_count": 1,
   "id": "10c4556d",
   "metadata": {},
   "outputs": [],
   "source": [
    "# from Serotype_Data import *\n",
    "\n",
    "# from Bio.Seq import Seq\n",
    "# from Bio.pairwise2 import format_alignment\n",
    "# from Bio import pairwise2\n",
    "\n",
    "import numpy as np\n",
    "import tabulate"
   ]
  },
  {
   "cell_type": "code",
   "execution_count": 2,
   "id": "dc3c46fb",
   "metadata": {},
   "outputs": [],
   "source": [
    "# processing functions\n",
    "def remove_brown_gene(gene_list):\n",
    "    new_list = gene_list[:]\n",
    "    for gene in gene_list:\n",
    "        if '-' in gene:\n",
    "            new_list.remove(gene)\n",
    "    return new_list\n",
    "\n",
    "def simplify_genes(gene_list):\n",
    "    new_list = gene_list[:]\n",
    "    housekeeping = ['wzg', 'wzh', 'wzd', 'wze'] #Sequence start with ['wzg', 'wzh', 'wzd', 'wze']\n",
    "    ignore = ['tnp'] #Ignore gene 'tnp'\n",
    "    finisher = ['aliA'] #Sequence finish with 'aliA'\n",
    "    polymerase = ['wzy']\n",
    "    flippase = ['wzx']\n",
    "    \n",
    "    to_remove = housekeeping + ignore + finisher + polymerase + flippase #['wzg', 'wzh', 'wzd', 'wze', 'tnp', 'aliA', 'wzy', 'wzx']\n",
    "    \n",
    "    #new_list = remove_brown_gene(new_list) #Remove brown genes\n",
    "    \n",
    "    for gene in to_remove:\n",
    "        while gene in new_list: #Remove all of genes belong to to_remove\n",
    "            new_list.remove(gene)\n",
    "    \n",
    "    return new_list"
   ]
  },
  {
   "cell_type": "markdown",
   "id": "c8e06574",
   "metadata": {},
   "source": [
    "##### Pairwise sequence alignment\n",
    "https://readiab.org/pairwise-alignment.html\n",
    "\n",
    "Fundamental problems is determining how similar a pair of biological sequences are.\n",
    "\n",
    "We’ll explore why determining biological sequence similarity is harder than it might initially seem, and learn about pairwise sequence alignment, the standard approach for determining sequence similarity."
   ]
  },
  {
   "cell_type": "code",
   "execution_count": 3,
   "id": "9d8a9911",
   "metadata": {},
   "outputs": [],
   "source": [
    "def show_compare(h_sequence, v_sequence, data, hide_zeros=False, nonzero_val=None):\n",
    "    rows = []\n",
    "    col_headers = [c for c in h_sequence]\n",
    "    row_headers = [c for c in v_sequence]\n",
    "    pad_headers = data.shape == (len(row_headers) + 1, len(col_headers) + 1)\n",
    "    if pad_headers:\n",
    "        row_headers = [\" \"] + row_headers\n",
    "        col_headers = [\" \"] + col_headers\n",
    "    for h, d in zip(row_headers, data):\n",
    "        current_row = [h]\n",
    "        for e in d:\n",
    "            if e == 0:\n",
    "                if hide_zeros:\n",
    "                    current_row.append('')\n",
    "                else:\n",
    "                    current_row.append(0)\n",
    "            else:\n",
    "                if nonzero_val is not None:\n",
    "                    current_row.append(nonzero_val)\n",
    "                else:\n",
    "                    current_row.append(e)\n",
    "        rows.append(current_row)\n",
    "    return tabulate.tabulate(rows, headers=col_headers, tablefmt='html')"
   ]
  },
  {
   "cell_type": "code",
   "execution_count": null,
   "id": "500cbc50",
   "metadata": {},
   "outputs": [],
   "source": []
  },
  {
   "cell_type": "code",
   "execution_count": null,
   "id": "322e98c6",
   "metadata": {},
   "outputs": [],
   "source": []
  }
 ],
 "metadata": {
  "kernelspec": {
   "display_name": "Python 3 (ipykernel)",
   "language": "python",
   "name": "python3"
  },
  "language_info": {
   "codemirror_mode": {
    "name": "ipython",
    "version": 3
   },
   "file_extension": ".py",
   "mimetype": "text/x-python",
   "name": "python",
   "nbconvert_exporter": "python",
   "pygments_lexer": "ipython3",
   "version": "3.8.10"
  }
 },
 "nbformat": 4,
 "nbformat_minor": 5
}
