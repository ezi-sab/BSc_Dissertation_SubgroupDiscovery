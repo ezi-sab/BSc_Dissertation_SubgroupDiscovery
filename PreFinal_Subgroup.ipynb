{
 "cells": [
  {
   "cell_type": "markdown",
   "id": "edd828bb",
   "metadata": {},
   "source": [
    "# Prepare the Final Year Project"
   ]
  },
  {
   "cell_type": "code",
   "execution_count": 1,
   "id": "202bd5d8",
   "metadata": {},
   "outputs": [],
   "source": [
    "from Serotype_Data import * #Dataset of Serotypes\n",
    "from Serotype_Functions import *\n",
    "\n",
    "#Biopython ver.1.76\n",
    "from Bio.Seq import Seq #Represent biological sequences with alphabets\n",
    "from Bio.pairwise2 import format_alignment #Functions to get global and local alignments between two sequences\n",
    "from Bio import pairwise2\n",
    "\n",
    "from IPython.display import Image\n",
    "\n",
    "import numpy as np\n",
    "import pandas as pd\n",
    "import tabulate"
   ]
  },
  {
   "cell_type": "code",
   "execution_count": 2,
   "id": "0d065390",
   "metadata": {},
   "outputs": [],
   "source": [
    "import json\n",
    "import os"
   ]
  },
  {
   "cell_type": "code",
   "execution_count": 3,
   "id": "f7431364",
   "metadata": {},
   "outputs": [],
   "source": [
    "path = os.path.relpath('./serotypes.json')\n",
    "f = open(path, 'r')\n",
    "serotypes = json.load(f)"
   ]
  },
  {
   "cell_type": "markdown",
   "id": "3859746d",
   "metadata": {},
   "source": [
    "##### Subgroup Package\n",
    "About subgroup package https://pysubgroup.readthedocs.io/en/latest/tutorials/introduction.html#Subgroup-Discovery\n",
    "\n",
    "Survey paper https://link.springer.com/content/pdf/10.1007/s11390-016-1647-1.pdf"
   ]
  },
  {
   "cell_type": "code",
   "execution_count": 4,
   "id": "44897ea1",
   "metadata": {},
   "outputs": [
    {
     "ename": "ModuleNotFoundError",
     "evalue": "No module named 'PairXPair_dataset'",
     "output_type": "error",
     "traceback": [
      "\u001b[0;31m---------------------------------------------------------------------------\u001b[0m",
      "\u001b[0;31mModuleNotFoundError\u001b[0m                       Traceback (most recent call last)",
      "\u001b[0;32m/tmp/ipykernel_9545/3894603813.py\u001b[0m in \u001b[0;36m<module>\u001b[0;34m\u001b[0m\n\u001b[0;32m----> 1\u001b[0;31m \u001b[0;32mfrom\u001b[0m \u001b[0mPairXPair_dataset\u001b[0m \u001b[0;32mimport\u001b[0m \u001b[0;34m*\u001b[0m\u001b[0;34m\u001b[0m\u001b[0;34m\u001b[0m\u001b[0m\n\u001b[0m\u001b[1;32m      2\u001b[0m \u001b[0;32mfrom\u001b[0m \u001b[0msubgroup_dataset\u001b[0m \u001b[0;32mimport\u001b[0m \u001b[0;34m*\u001b[0m\u001b[0;34m\u001b[0m\u001b[0;34m\u001b[0m\u001b[0m\n",
      "\u001b[0;31mModuleNotFoundError\u001b[0m: No module named 'PairXPair_dataset'"
     ]
    }
   ],
   "source": [
    "from PairXPair_dataset import *\n",
    "from subgroup_dataset import *"
   ]
  },
  {
   "cell_type": "code",
   "execution_count": null,
   "id": "5dc67ff2",
   "metadata": {},
   "outputs": [],
   "source": [
    "sub_df"
   ]
  },
  {
   "cell_type": "code",
   "execution_count": null,
   "id": "53ea2be1",
   "metadata": {},
   "outputs": [],
   "source": [
    "import pysubgroup as ps\n",
    "\n",
    "# Load the example dataset\n",
    "data = sub_df\n",
    "\n",
    "target = ps.BinaryTarget ('galactose', 1)\n",
    "searchspace = ps.create_selectors(data, ignore=['galactose', \n",
    "                                                'glucose', \n",
    "                                                'rhamnose', \n",
    "                                                'N-acetylglucosamine', \n",
    "                                                'N-acetylgalactosamine', \n",
    "                                                'N-acetylmannosamine', \n",
    "                                                'ribitol',\n",
    "                                                'glucuronic acid', \n",
    "                                                'N-acetylfucosamine'])\n",
    "task = ps.SubgroupDiscoveryTask (\n",
    "    data,\n",
    "    target,\n",
    "    searchspace,\n",
    "    result_set_size=10,\n",
    "    depth=5,\n",
    "    qf=ps.WRAccQF())\n",
    "result = ps.BeamSearch().execute(task)"
   ]
  },
  {
   "cell_type": "code",
   "execution_count": null,
   "id": "4eeb5e63",
   "metadata": {},
   "outputs": [],
   "source": [
    "result.to_dataframe()"
   ]
  },
  {
   "cell_type": "code",
   "execution_count": null,
   "id": "b1b0da73",
   "metadata": {},
   "outputs": [],
   "source": [
    "data = sub_df\n",
    "\n",
    "target = ps.BinaryTarget ('glucose', 1)\n",
    "searchspace = ps.create_selectors(data, ignore=['galactose', \n",
    "                                                'glucose', \n",
    "                                                'rhamnose', \n",
    "                                                'N-acetylglucosamine', \n",
    "                                                'N-acetylgalactosamine', \n",
    "                                                'N-acetylmannosamine', \n",
    "                                                'ribitol',\n",
    "                                                'glucuronic acid', \n",
    "                                                'N-acetylfucosamine'])\n",
    "task = ps.SubgroupDiscoveryTask (\n",
    "    data,\n",
    "    target,\n",
    "    searchspace,\n",
    "    result_set_size=10,\n",
    "    depth=5,\n",
    "    qf=ps.WRAccQF())\n",
    "result = ps.BeamSearch().execute(task)"
   ]
  },
  {
   "cell_type": "code",
   "execution_count": null,
   "id": "b6b0c6da",
   "metadata": {},
   "outputs": [],
   "source": [
    "result.to_dataframe()"
   ]
  },
  {
   "cell_type": "code",
   "execution_count": null,
   "id": "c686a4e8",
   "metadata": {},
   "outputs": [],
   "source": [
    "data = sub_df\n",
    "\n",
    "target = ps.BinaryTarget ('rhamnose', 1)\n",
    "searchspace = ps.create_selectors(data, ignore=['galactose', \n",
    "                                                'glucose', \n",
    "                                                'rhamnose', \n",
    "                                                'N-acetylglucosamine', \n",
    "                                                'N-acetylgalactosamine', \n",
    "                                                'N-acetylmannosamine', \n",
    "                                                'ribitol',\n",
    "                                                'glucuronic acid', \n",
    "                                                'N-acetylfucosamine'])\n",
    "task = ps.SubgroupDiscoveryTask (\n",
    "    data,\n",
    "    target,\n",
    "    searchspace,\n",
    "    result_set_size=10,\n",
    "    depth=5,\n",
    "    qf=ps.WRAccQF())\n",
    "result = ps.BeamSearch().execute(task)"
   ]
  },
  {
   "cell_type": "code",
   "execution_count": null,
   "id": "eba9a0be",
   "metadata": {},
   "outputs": [],
   "source": [
    "result.to_dataframe()"
   ]
  },
  {
   "cell_type": "code",
   "execution_count": null,
   "id": "62835b65",
   "metadata": {},
   "outputs": [],
   "source": [
    "data = sub_df\n",
    "\n",
    "target = ps.BinaryTarget ('N-acetylglucosamine', 1)\n",
    "searchspace = ps.create_selectors(data, ignore=['galactose', \n",
    "                                                'glucose', \n",
    "                                                'rhamnose', \n",
    "                                                'N-acetylglucosamine', \n",
    "                                                'N-acetylgalactosamine', \n",
    "                                                'N-acetylmannosamine', \n",
    "                                                'ribitol',\n",
    "                                                'glucuronic acid', \n",
    "                                                'N-acetylfucosamine'])\n",
    "task = ps.SubgroupDiscoveryTask (\n",
    "    data,\n",
    "    target,\n",
    "    searchspace,\n",
    "    result_set_size=10,\n",
    "    depth=5,\n",
    "    qf=ps.WRAccQF())\n",
    "result = ps.BeamSearch().execute(task)"
   ]
  },
  {
   "cell_type": "code",
   "execution_count": null,
   "id": "c84a1d55",
   "metadata": {},
   "outputs": [],
   "source": [
    "result.to_dataframe()"
   ]
  },
  {
   "cell_type": "code",
   "execution_count": null,
   "id": "d9013ba1",
   "metadata": {},
   "outputs": [],
   "source": [
    "data = sub_df\n",
    "\n",
    "target = ps.BinaryTarget ('N-acetylgalactosamine', 1)\n",
    "searchspace = ps.create_selectors(data, ignore=['galactose', \n",
    "                                                'glucose', \n",
    "                                                'rhamnose', \n",
    "                                                'N-acetylglucosamine', \n",
    "                                                'N-acetylgalactosamine', \n",
    "                                                'N-acetylmannosamine', \n",
    "                                                'ribitol',\n",
    "                                                'glucuronic acid', \n",
    "                                                'N-acetylfucosamine'])\n",
    "task = ps.SubgroupDiscoveryTask (\n",
    "    data,\n",
    "    target,\n",
    "    searchspace,\n",
    "    result_set_size=10,\n",
    "    depth=5,\n",
    "    qf=ps.WRAccQF())\n",
    "result = ps.BeamSearch().execute(task)"
   ]
  },
  {
   "cell_type": "code",
   "execution_count": null,
   "id": "cdd6c56a",
   "metadata": {},
   "outputs": [],
   "source": [
    "result.to_dataframe()"
   ]
  },
  {
   "cell_type": "code",
   "execution_count": null,
   "id": "21da29c1",
   "metadata": {},
   "outputs": [],
   "source": [
    "data = sub_df\n",
    "\n",
    "target = ps.BinaryTarget ('N-acetylmannosamine', 1)\n",
    "searchspace = ps.create_selectors(data, ignore=['galactose', \n",
    "                                                'glucose', \n",
    "                                                'rhamnose', \n",
    "                                                'N-acetylglucosamine', \n",
    "                                                'N-acetylgalactosamine', \n",
    "                                                'N-acetylmannosamine', \n",
    "                                                'ribitol',\n",
    "                                                'glucuronic acid', \n",
    "                                                'N-acetylfucosamine'])\n",
    "task = ps.SubgroupDiscoveryTask (\n",
    "    data,\n",
    "    target,\n",
    "    searchspace,\n",
    "    result_set_size=10,\n",
    "    depth=5,\n",
    "    qf=ps.WRAccQF())\n",
    "result = ps.BeamSearch().execute(task)"
   ]
  },
  {
   "cell_type": "code",
   "execution_count": null,
   "id": "2f06d0ea",
   "metadata": {},
   "outputs": [],
   "source": [
    "result.to_dataframe()"
   ]
  },
  {
   "cell_type": "code",
   "execution_count": null,
   "id": "bf7e5f98",
   "metadata": {},
   "outputs": [],
   "source": [
    "data = sub_df\n",
    "\n",
    "target = ps.BinaryTarget ('ribitol', 1)\n",
    "searchspace = ps.create_selectors(data, ignore=['galactose', \n",
    "                                                'glucose', \n",
    "                                                'rhamnose', \n",
    "                                                'N-acetylglucosamine', \n",
    "                                                'N-acetylgalactosamine', \n",
    "                                                'N-acetylmannosamine', \n",
    "                                                'ribitol',\n",
    "                                                'glucuronic acid', \n",
    "                                                'N-acetylfucosamine'])\n",
    "task = ps.SubgroupDiscoveryTask (\n",
    "    data,\n",
    "    target,\n",
    "    searchspace,\n",
    "    result_set_size=10,\n",
    "    depth=5,\n",
    "    qf=ps.WRAccQF())\n",
    "result = ps.BeamSearch().execute(task)"
   ]
  },
  {
   "cell_type": "code",
   "execution_count": null,
   "id": "ca29da49",
   "metadata": {},
   "outputs": [],
   "source": [
    "result.to_dataframe()"
   ]
  },
  {
   "cell_type": "code",
   "execution_count": null,
   "id": "09786ef7",
   "metadata": {},
   "outputs": [],
   "source": [
    "data = sub_df\n",
    "\n",
    "target = ps.BinaryTarget ('glucuronic acid', 1)\n",
    "searchspace = ps.create_selectors(data, ignore=['galactose', \n",
    "                                                'glucose', \n",
    "                                                'rhamnose', \n",
    "                                                'N-acetylglucosamine', \n",
    "                                                'N-acetylgalactosamine', \n",
    "                                                'N-acetylmannosamine', \n",
    "                                                'ribitol',\n",
    "                                                'glucuronic acid', \n",
    "                                                'N-acetylfucosamine'])\n",
    "task = ps.SubgroupDiscoveryTask (\n",
    "    data,\n",
    "    target,\n",
    "    searchspace,\n",
    "    result_set_size=10,\n",
    "    depth=5,\n",
    "    qf=ps.WRAccQF())\n",
    "result = ps.BeamSearch().execute(task)"
   ]
  },
  {
   "cell_type": "code",
   "execution_count": null,
   "id": "d4eff8dc",
   "metadata": {},
   "outputs": [],
   "source": [
    "result.to_dataframe()"
   ]
  },
  {
   "cell_type": "code",
   "execution_count": null,
   "id": "89c4aaf7",
   "metadata": {},
   "outputs": [],
   "source": [
    "data = sub_df\n",
    "\n",
    "target = ps.BinaryTarget ('N-acetylfucosamine', 1)\n",
    "searchspace = ps.create_selectors(data, ignore=['galactose', \n",
    "                                                'glucose', \n",
    "                                                'rhamnose', \n",
    "                                                'N-acetylglucosamine', \n",
    "                                                'N-acetylgalactosamine', \n",
    "                                                'N-acetylmannosamine', \n",
    "                                                'ribitol',\n",
    "                                                'glucuronic acid', \n",
    "                                                'N-acetylfucosamine'])\n",
    "task = ps.SubgroupDiscoveryTask (\n",
    "    data,\n",
    "    target,\n",
    "    searchspace,\n",
    "    result_set_size=10,\n",
    "    depth=2,\n",
    "    qf=ps.WRAccQF())\n",
    "result = ps.BeamSearch().execute(task)"
   ]
  },
  {
   "cell_type": "code",
   "execution_count": null,
   "id": "542cc2f6",
   "metadata": {},
   "outputs": [],
   "source": [
    "result.to_dataframe()"
   ]
  },
  {
   "cell_type": "code",
   "execution_count": null,
   "id": "3437ee32",
   "metadata": {},
   "outputs": [],
   "source": []
  },
  {
   "cell_type": "code",
   "execution_count": null,
   "id": "5d5abc52",
   "metadata": {},
   "outputs": [],
   "source": []
  }
 ],
 "metadata": {
  "kernelspec": {
   "display_name": "Python 3 (ipykernel)",
   "language": "python",
   "name": "python3"
  },
  "language_info": {
   "codemirror_mode": {
    "name": "ipython",
    "version": 3
   },
   "file_extension": ".py",
   "mimetype": "text/x-python",
   "name": "python",
   "nbconvert_exporter": "python",
   "pygments_lexer": "ipython3",
   "version": "3.8.10"
  }
 },
 "nbformat": 4,
 "nbformat_minor": 5
}
