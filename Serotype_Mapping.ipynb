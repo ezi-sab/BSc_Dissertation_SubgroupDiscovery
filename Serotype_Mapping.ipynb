{
 "cells": [
  {
   "cell_type": "markdown",
   "id": "de1eda66",
   "metadata": {},
   "source": [
    "# Mapping of the gene sequences"
   ]
  },
  {
   "cell_type": "code",
   "execution_count": 2,
   "id": "f1af3d5f",
   "metadata": {},
   "outputs": [],
   "source": [
    "from Serotype_Data import *\n",
    "\n",
    "from Bio.Seq import Seq\n",
    "from Bio.pairwise2 import format_alignment\n",
    "from Bio import pairwise2\n",
    "\n",
    "from IPython.display import Image\n"
   ]
  },
  {
   "cell_type": "markdown",
   "id": "13006da2",
   "metadata": {},
   "source": [
    "Some of the genes in the diagrams are marked in brown, which means they don't work anymore because they are broken. (Is is helpful to predict the structures?)\n",
    "    \n",
    "(In addition, some of the genes are marked in mint are work for bonds.)"
   ]
  },
  {
   "cell_type": "code",
   "execution_count": 3,
   "id": "f48d5ac1",
   "metadata": {},
   "outputs": [],
   "source": [
    "def compare_serotypes(sero1, sero2):\n",
    "    alignments = pairwise2.align.globalxx(sero1['genes'], sero2['genes'], gap_char=[\"-\"], one_alignment_only=True)\n",
    "    for a in alignments: \n",
    "        print(format_alignment(*a, full_sequences=True))\n",
    "    alignments = pairwise2.align.globalxx(sero1['sugars'], sero2['sugars'], gap_char=[\"-\"], one_alignment_only=True)\n",
    "    for a in alignments: \n",
    "        print(format_alignment(*a, full_sequences=True))\n",
    "    alignments = pairwise2.align.globalxx(sero1['bonds'], sero2['bonds'], gap_char=[\"-\"], one_alignment_only=True)\n",
    "    for a in alignments: \n",
    "        print(format_alignment(*a, full_sequences=True))"
   ]
  },
  {
   "cell_type": "code",
   "execution_count": 7,
   "id": "6239ce97",
   "metadata": {},
   "outputs": [
    {
     "ename": "AttributeError",
     "evalue": "type object 'Image' has no attribute 'open'",
     "output_type": "error",
     "traceback": [
      "\u001b[0;31m---------------------------------------------------------------------------\u001b[0m",
      "\u001b[0;31mAttributeError\u001b[0m                            Traceback (most recent call last)",
      "\u001b[0;32m/tmp/ipykernel_26682/3089191005.py\u001b[0m in \u001b[0;36m<module>\u001b[0;34m\u001b[0m\n\u001b[0;32m----> 1\u001b[0;31m \u001b[0mimg\u001b[0m \u001b[0;34m=\u001b[0m \u001b[0mImage\u001b[0m\u001b[0;34m.\u001b[0m\u001b[0mopen\u001b[0m\u001b[0;34m(\u001b[0m\u001b[0;34m'../ser_img/6.png'\u001b[0m\u001b[0;34m)\u001b[0m\u001b[0;34m\u001b[0m\u001b[0;34m\u001b[0m\u001b[0m\n\u001b[0m\u001b[1;32m      2\u001b[0m \u001b[0mimg\u001b[0m\u001b[0;34m\u001b[0m\u001b[0;34m\u001b[0m\u001b[0m\n",
      "\u001b[0;31mAttributeError\u001b[0m: type object 'Image' has no attribute 'open'"
     ]
    }
   ],
   "source": [
    "img = Image.open('../ser_img/6.png')\n",
    "img"
   ]
  },
  {
   "cell_type": "markdown",
   "id": "3e04c266",
   "metadata": {},
   "source": [
    "Regarding to 6A and 6B, HG262, HG263 and glf are marked in brown. "
   ]
  },
  {
   "cell_type": "code",
   "execution_count": null,
   "id": "7df7e699",
   "metadata": {},
   "outputs": [],
   "source": [
    "compare_serotypes(ser_6A, ser_6B)"
   ]
  },
  {
   "cell_type": "markdown",
   "id": "b99a9bd8",
   "metadata": {},
   "source": [
    "In this case, if we ignore them at the begining, the only difference between 6A and 6B is tnp. And this means tnp makes the difference between them. \n",
    "\n",
    "(Q. Both have wciP gene that works for bond. However, it shows different bond between 6A and 6B. How to figure out this?)"
   ]
  },
  {
   "cell_type": "markdown",
   "id": "59658714",
   "metadata": {},
   "source": [
    "### \"Starting Point\"\n",
    "\n",
    "Almost serotypes are start with ['wzg', 'wzh', 'wzd', 'wze', 'wchA']. They shows that they have glucose at the begining of sugar structure. \n",
    "\n",
    "Some of serotypes are start with ['wzg', 'wzh', 'wzd', 'wze', 'wcjG']. They shows that they start with galactose in terms of sugars. In addition, serotypes are start with ['wzg', 'wzh', 'wzd', 'wze', 'wcjH'] also have galactose at the begining of sugar structure. (ser_29)\n",
    "\n",
    "Some of serotypes are start with ['wzd', 'wze', 'wzg', 'wzh', '-']. How to deal with? (ser_25F, ser_25A, ser_38)\n",
    "ser_4, ser_5 start with ['wzg', 'wzh', 'wzd', 'wze', 'wciI']. "
   ]
  },
  {
   "cell_type": "markdown",
   "id": "fc8b8f9e",
   "metadata": {},
   "source": [
    "The gene sequences ['rmlA','rmlC', 'rmlB', 'rmlD'] -> rhamnose\n",
    "\n",
    "The gene sequences ['fnlA','fnlB', 'rnlC'] -> N-acetylfucosamine\n",
    "\n",
    "The gene sequence ['ugd'] -> glucuronic acid"
   ]
  },
  {
   "cell_type": "code",
   "execution_count": null,
   "id": "6c471e49",
   "metadata": {},
   "outputs": [],
   "source": []
  }
 ],
 "metadata": {
  "kernelspec": {
   "display_name": "Python 3 (ipykernel)",
   "language": "python",
   "name": "python3"
  },
  "language_info": {
   "codemirror_mode": {
    "name": "ipython",
    "version": 3
   },
   "file_extension": ".py",
   "mimetype": "text/x-python",
   "name": "python",
   "nbconvert_exporter": "python",
   "pygments_lexer": "ipython3",
   "version": "3.8.10"
  }
 },
 "nbformat": 4,
 "nbformat_minor": 5
}
