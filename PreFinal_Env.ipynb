{
 "cells": [
  {
   "cell_type": "markdown",
   "id": "325446a7",
   "metadata": {},
   "source": [
    "# Prepare the Final Year Project"
   ]
  },
  {
   "cell_type": "markdown",
   "id": "9ae168d0",
   "metadata": {},
   "source": [
    "#### Environment\n",
    "<U>Serotype_Data.py</U>\n",
    "\n",
    "Dataset file. Build the dataset from the image of setorypes to dictionary\n",
    "\n",
    "<U>Biopython</U> ver. 1.76\n",
    "\n",
    "Bio.Seq https://biopython.org/docs/1.75/api/Bio.Seq.html\n",
    "\n",
    "Bio.pairwise2 https://biopython.org/docs/1.75/api/Bio.pairwise2.html\n"
   ]
  },
  {
   "cell_type": "code",
   "execution_count": 3,
   "id": "73492050",
   "metadata": {},
   "outputs": [],
   "source": [
    "from Serotype_Data import * #Dataset of Serotypes\n",
    "from Serotype_Functions import * #Functions for comparison\n",
    "\n",
    "#Biopython ver.1.76\n",
    "from Bio.Seq import Seq #Represent biological sequences with alphabets\n",
    "from Bio.pairwise2 import format_alignment #Functions to get global and local alignments between two sequences\n",
    "from Bio import pairwise2\n",
    "\n",
    "from IPython.display import Image\n",
    "\n",
    "import numpy as np\n",
    "import pandas as pd\n",
    "import tabulate"
   ]
  },
  {
   "cell_type": "code",
   "execution_count": 4,
   "id": "00715ce1",
   "metadata": {},
   "outputs": [],
   "source": [
    "import json\n",
    "import os"
   ]
  },
  {
   "cell_type": "code",
   "execution_count": 5,
   "id": "3cdc8921",
   "metadata": {},
   "outputs": [],
   "source": [
    "path = os.path.relpath('./serotypes.json')\n",
    "f = open(path, 'r')\n",
    "serotypes = json.load(f)"
   ]
  },
  {
   "cell_type": "markdown",
   "id": "c35d135d",
   "metadata": {},
   "source": [
    "##### Dataset\n",
    "From https://ndownloader.figstatic.com/files/471827, we have 90 serotypes with their gene sequences. However, in terms of sugar structure, 36 serotypes have not yet been elucidated. \n",
    "\n",
    "This means we will use 54 serotypes which have its own sugar structures for decoding the messages from gene sequences and use 36 serotypes which don't have its own sugar structes for testing. "
   ]
  },
  {
   "cell_type": "code",
   "execution_count": 4,
   "id": "58174bc6",
   "metadata": {},
   "outputs": [
    {
     "name": "stdout",
     "output_type": "stream",
     "text": [
      "90\n"
     ]
    }
   ],
   "source": [
    "# Number of serotypes in all dataset\n",
    "n_ser = 0\n",
    "\n",
    "for key in serotypes:\n",
    "    if key in serotypes:\n",
    "        n_ser += 1\n",
    "        \n",
    "print(n_ser)"
   ]
  },
  {
   "cell_type": "code",
   "execution_count": 5,
   "id": "9f723188",
   "metadata": {},
   "outputs": [
    {
     "name": "stdout",
     "output_type": "stream",
     "text": [
      "36\n"
     ]
    }
   ],
   "source": [
    "# Number of serotypes which don't have sugar structures\n",
    "no_Sugar_ser = 0\n",
    "\n",
    "for key in serotypes:\n",
    "    if len(serotypes[key]['sugars']) == 0:\n",
    "        no_Sugar_ser += 1\n",
    "    else:\n",
    "        continue\n",
    "        \n",
    "print(no_Sugar_ser)"
   ]
  },
  {
   "cell_type": "markdown",
   "id": "0b6db78d",
   "metadata": {},
   "source": [
    "As following cells show how many genes and sugars we have in dataset. "
   ]
  },
  {
   "cell_type": "code",
   "execution_count": 10,
   "id": "7cfe823d",
   "metadata": {},
   "outputs": [
    {
     "data": {
      "text/plain": [
       "193"
      ]
     },
     "execution_count": 10,
     "metadata": {},
     "output_type": "execute_result"
    }
   ],
   "source": [
    "numGene = 0\n",
    "genesset = set() #set which consists of all genes in dataset\n",
    "\n",
    "for key in serotypes:\n",
    "    s_genes = []\n",
    "    s_genes = simplify_genes(serotypes[key]['genes'])\n",
    "    \n",
    "    for gene in s_genes:\n",
    "        genesset.add(gene)\n",
    "        \n",
    "numGene = len(genesset)\n",
    "\n",
    "numGene"
   ]
  },
  {
   "cell_type": "code",
   "execution_count": 11,
   "id": "aaf75a82",
   "metadata": {},
   "outputs": [
    {
     "data": {
      "text/plain": [
       "21"
      ]
     },
     "execution_count": 11,
     "metadata": {},
     "output_type": "execute_result"
    }
   ],
   "source": [
    "numSugar = 0\n",
    "sugarsset = set()\n",
    "\n",
    "for key in serotypes:\n",
    "    s_sugars = []\n",
    "    s_sugars = serotypes[key]['sugars']\n",
    "    \n",
    "    for sugar in s_sugars:\n",
    "        sugarsset.add(sugar)\n",
    "        \n",
    "numSugar = len(sugarsset)\n",
    "\n",
    "numSugar"
   ]
  },
  {
   "cell_type": "code",
   "execution_count": null,
   "id": "5e316229",
   "metadata": {},
   "outputs": [],
   "source": []
  }
 ],
 "metadata": {
  "kernelspec": {
   "display_name": "Python 3 (ipykernel)",
   "language": "python",
   "name": "python3"
  },
  "language_info": {
   "codemirror_mode": {
    "name": "ipython",
    "version": 3
   },
   "file_extension": ".py",
   "mimetype": "text/x-python",
   "name": "python",
   "nbconvert_exporter": "python",
   "pygments_lexer": "ipython3",
   "version": "3.8.10"
  }
 },
 "nbformat": 4,
 "nbformat_minor": 5
}
