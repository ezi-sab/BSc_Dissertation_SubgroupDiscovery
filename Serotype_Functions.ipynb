{
 "cells": [
  {
   "cell_type": "markdown",
   "id": "bd16109b",
   "metadata": {},
   "source": [
    "# Functions for finding the rules\n"
   ]
  },
  {
   "cell_type": "code",
   "execution_count": 15,
   "id": "10c4556d",
   "metadata": {},
   "outputs": [],
   "source": [
    "from Serotype_Data import *\n",
    "\n",
    "from Bio.Seq import Seq\n",
    "from Bio.pairwise2 import format_alignment\n",
    "from Bio import pairwise2\n",
    "\n",
    "import numpy as np\n",
    "import tabulate"
   ]
  },
  {
   "cell_type": "code",
   "execution_count": 16,
   "id": "dc3c46fb",
   "metadata": {},
   "outputs": [],
   "source": [
    "# processing functions\n",
    "def remove_brown_gene(gene_list):\n",
    "    new_list = gene_list[:]\n",
    "    for gene in gene_list:\n",
    "        if '-' in gene:\n",
    "            new_list.remove(gene)\n",
    "    return new_list\n",
    "\n",
    "def simplify_genes(gene_list):\n",
    "    new_list = gene_list[:]\n",
    "    housekeeping = ['wzg', 'wzh', 'wzd', 'wze'] #Sequence start with ['wzg', 'wzh', 'wzd', 'wze']\n",
    "    ignore = ['tnp'] #Ignore gene 'tnp'\n",
    "    finisher = ['aliA'] #Sequence finish with 'aliA'\n",
    "    polymerase = ['wzy']\n",
    "    flippase = ['wzx']\n",
    "    \n",
    "    to_remove = housekeeping + ignore + finisher + polymerase + flippase #['wzg', 'wzh', 'wzd', 'wze', 'tnp', 'aliA', 'wzy', 'wzx']\n",
    "    \n",
    "    #new_list = remove_brown_gene(new_list) #Remove brown genes\n",
    "    \n",
    "    for gene in to_remove:\n",
    "        while gene in new_list: #Remove all of genes belong to to_remove\n",
    "            new_list.remove(gene)\n",
    "    \n",
    "    return new_list"
   ]
  },
  {
   "cell_type": "code",
   "execution_count": 18,
   "id": "5359c70e",
   "metadata": {},
   "outputs": [],
   "source": [
    "def compare_genes(list):\n",
    "    alignments = pairwise2.align.globalms(simplify_genes(list[0]['genes']), simplify_genes(list[1]['genes']), 2, -1, -5, -.1, gap_char=[\"-\"], one_alignment_only=True, penalize_end_gaps=True) # identical character, mismatched character, gap open, gap extend\n",
    "\n",
    "    for a in alignments: \n",
    "        print(format_alignment(*a, full_sequences=True))\n",
    "\n",
    "def compare_sugars(list):\n",
    "    try: \n",
    "        list[0]['sugars'] and list[1]['sugars']\n",
    "        alignments = pairwise2.align.globalms(list[0]['sugars'], list[1]['sugars'], 2, -1, -2, -.1, gap_char=[\"-\"], penalize_end_gaps=True)\n",
    "\n",
    "        for a in alignments: \n",
    "            print(format_alignment(*a, full_sequences=True))\n",
    "    except KeyError:\n",
    "        print(\"** No sugar structure for one or both serotypes **\")\n",
    "\n",
    "def compare_bonds(list):\n",
    "    alignments = pairwise2.align.globalms(list[0]['bonds'], list[1]['bonds'], 2, -1, -2, -.1, gap_char=[\"-\"], penalize_end_gaps=True)\n",
    "\n",
    "    for a in alignments: \n",
    "        print(format_alignment(*a, full_sequences=True))\n",
    "\n",
    "def compare_side_branches(list):\n",
    "    alignments = pairwise2.align.globalms(list[0]['side branches'], list[1]['side branches'], 2, -1, -2, -.1, gap_char=[\"-\"], one_alignment_only=True, penalize_end_gaps=True)\n",
    "\n",
    "    for a in alignments: \n",
    "        print(format_alignment(*a, full_sequences=True))\n",
    "\n",
    "def compare_lists(list):\n",
    "    alignments = pairwise2.align.globalms(list[0], list[1], 2, -1, -2, -.1, gap_char=[\"-\"], penalize_end_gaps=True, one_alignment_only=True)\n",
    "\n",
    "    for a in alignments: \n",
    "        print(format_alignment(*a, full_sequences=True))"
   ]
  },
  {
   "cell_type": "code",
   "execution_count": null,
   "id": "9d8a9911",
   "metadata": {},
   "outputs": [],
   "source": [
    "def show_compare(h_sequence, v_sequence, data, hide_zeros=False, nonzero_val=None):\n",
    "    rows = []\n",
    "    col_headers = [c for c in h_sequence]\n",
    "    row_headers = [c for c in v_sequence]\n",
    "    pad_headers = data.shape == (len(row_headers) + 1, len(col_headers) + 1)\n",
    "    if pad_headers:\n",
    "        row_headers = [\" \"] + row_headers\n",
    "        col_headers = [\" \"] + col_headers\n",
    "    for h, d in zip(row_headers, data):\n",
    "        current_row = [h]\n",
    "        for e in d:\n",
    "            if e == 0:\n",
    "                if hide_zeros:\n",
    "                    current_row.append('')\n",
    "                else:\n",
    "                    current_row.append(0)\n",
    "            else:\n",
    "                if nonzero_val is not None:\n",
    "                    current_row.append(nonzero_val)\n",
    "                else:\n",
    "                    current_row.append(e)\n",
    "        rows.append(current_row)\n",
    "    return tabulate.tabulate(rows, headers=col_headers, tablefmt='html')"
   ]
  },
  {
   "cell_type": "code",
   "execution_count": 19,
   "id": "ead66c0a",
   "metadata": {},
   "outputs": [],
   "source": []
  }
 ],
 "metadata": {
  "kernelspec": {
   "display_name": "Python 3 (ipykernel)",
   "language": "python",
   "name": "python3"
  },
  "language_info": {
   "codemirror_mode": {
    "name": "ipython",
    "version": 3
   },
   "file_extension": ".py",
   "mimetype": "text/x-python",
   "name": "python",
   "nbconvert_exporter": "python",
   "pygments_lexer": "ipython3",
   "version": "3.8.10"
  }
 },
 "nbformat": 4,
 "nbformat_minor": 5
}
