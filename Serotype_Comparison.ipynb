{
 "cells": [
  {
   "cell_type": "markdown",
   "id": "00e3dc7f",
   "metadata": {},
   "source": [
    "# Compare the serotypes\n"
   ]
  },
  {
   "cell_type": "code",
   "execution_count": 7,
   "id": "45eaca08",
   "metadata": {},
   "outputs": [],
   "source": [
    "from Serotype_Data import *"
   ]
  },
  {
   "cell_type": "code",
   "execution_count": 8,
   "id": "2a9e26d8",
   "metadata": {},
   "outputs": [
    {
     "data": {
      "text/plain": [
       "False"
      ]
     },
     "execution_count": 8,
     "metadata": {},
     "output_type": "execute_result"
    }
   ],
   "source": [
    "ser_6A == ser_6B"
   ]
  },
  {
   "cell_type": "code",
   "execution_count": 11,
   "id": "c3d825eb",
   "metadata": {},
   "outputs": [
    {
     "name": "stdout",
     "output_type": "stream",
     "text": [
      "wzg wzh wzd wze wchA wciN HG262   -   wciO wciP wzy wzx rmlA rmlC rmlB rmlD tnp  -  aliA \n",
      " |   |   |   |    |    |                |    |   |   |    |    |    |    |            |  \n",
      "wzg wzh wzd wze wchA wciN   -   HG263 wciO wciP wzy wzx rmlA rmlC rmlB rmlD  -  glf aliA \n",
      "  Score=15\n",
      "\n"
     ]
    }
   ],
   "source": [
    "from Bio.Seq import Seq\n",
    "from Bio.pairwise2 import format_alignment\n",
    "from Bio import pairwise2\n",
    "\n",
    "alignments = pairwise2.align.globalxx(ser_6A['genes'], ser_6B['genes'], gap_char=[\"-\"], one_alignment_only=True)\n",
    "\n",
    "for a in alignments: \n",
    "    print(format_alignment(*a, full_sequences=True))"
   ]
  },
  {
   "cell_type": "code",
   "execution_count": 12,
   "id": "0bdfaa83",
   "metadata": {},
   "outputs": [
    {
     "name": "stdout",
     "output_type": "stream",
     "text": [
      "glucose galactose ribitol rhamnose \n",
      "   |        |        |        |    \n",
      "glucose galactose ribitol rhamnose \n",
      "  Score=4\n",
      "\n"
     ]
    }
   ],
   "source": [
    "alignments = pairwise2.align.globalxx(ser_6A['sugars'], ser_6B['sugars'], gap_char=[\"-\"], one_alignment_only=True)\n",
    "\n",
    "for a in alignments: \n",
    "    print(format_alignment(*a, full_sequences=True))"
   ]
  },
  {
   "cell_type": "code",
   "execution_count": null,
   "id": "5639c062",
   "metadata": {},
   "outputs": [],
   "source": []
  },
  {
   "cell_type": "code",
   "execution_count": null,
   "id": "635e2526",
   "metadata": {},
   "outputs": [],
   "source": []
  }
 ],
 "metadata": {
  "kernelspec": {
   "display_name": "Python 3 (ipykernel)",
   "language": "python",
   "name": "python3"
  },
  "language_info": {
   "codemirror_mode": {
    "name": "ipython",
    "version": 3
   },
   "file_extension": ".py",
   "mimetype": "text/x-python",
   "name": "python",
   "nbconvert_exporter": "python",
   "pygments_lexer": "ipython3",
   "version": "3.8.10"
  }
 },
 "nbformat": 4,
 "nbformat_minor": 5
}
