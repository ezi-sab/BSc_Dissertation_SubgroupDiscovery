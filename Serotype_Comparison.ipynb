{
 "cells": [
  {
   "cell_type": "markdown",
   "id": "00e3dc7f",
   "metadata": {},
   "source": [
    "# Compare the serotypes\n",
    "We store each sequence we are interested in as an array, and store the arrays for each serotype in dictionary."
   ]
  },
  {
   "cell_type": "code",
   "execution_count": 2,
   "id": "45eaca08",
   "metadata": {},
   "outputs": [],
   "source": [
    "from Serotype_Data import *"
   ]
  },
  {
   "cell_type": "markdown",
   "id": "615bf9de",
   "metadata": {},
   "source": [
    "We can compare the dicrionaries to show us what's different between the two serotypes."
   ]
  },
  {
   "cell_type": "code",
   "execution_count": 3,
   "id": "2a9e26d8",
   "metadata": {},
   "outputs": [
    {
     "data": {
      "text/plain": [
       "False"
      ]
     },
     "execution_count": 3,
     "metadata": {},
     "output_type": "execute_result"
    }
   ],
   "source": [
    "ser_6A == ser_6B"
   ]
  },
  {
   "cell_type": "markdown",
   "id": "a3d8afea",
   "metadata": {},
   "source": [
    "By comparing the two dictionaries, we can see that the gene sequence has changed a bit."
   ]
  },
  {
   "cell_type": "code",
   "execution_count": 5,
   "id": "c3d825eb",
   "metadata": {},
   "outputs": [
    {
     "name": "stdout",
     "output_type": "stream",
     "text": [
      "wzg wzh wzd wze wchA wciN HG262   -   wciO wciP wzy wzx rmlA rmlC rmlB rmlD tnp  -  aliA \n",
      " |   |   |   |    |    |                |    |   |   |    |    |    |    |            |  \n",
      "wzg wzh wzd wze wchA wciN   -   HG263 wciO wciP wzy wzx rmlA rmlC rmlB rmlD  -  glf aliA \n",
      "  Score=15\n",
      "\n"
     ]
    }
   ],
   "source": [
    "from Bio.Seq import Seq\n",
    "from Bio.pairwise2 import format_alignment\n",
    "from Bio import pairwise2\n",
    "\n",
    "alignments = pairwise2.align.globalxx(ser_6A['genes'], ser_6B['genes'], gap_char=[\"-\"], one_alignment_only=True)\n",
    "\n",
    "for a in alignments: \n",
    "    print(format_alignment(*a, full_sequences=True))"
   ]
  },
  {
   "cell_type": "code",
   "execution_count": 6,
   "id": "0bdfaa83",
   "metadata": {},
   "outputs": [
    {
     "name": "stdout",
     "output_type": "stream",
     "text": [
      "glucose galactose ribitol rhamnose \n",
      "   |        |        |        |    \n",
      "glucose galactose ribitol rhamnose \n",
      "  Score=4\n",
      "\n"
     ]
    }
   ],
   "source": [
    "alignments = pairwise2.align.globalxx(ser_6A['sugars'], ser_6B['sugars'], gap_char=[\"-\"], one_alignment_only=True)\n",
    "\n",
    "for a in alignments: \n",
    "    print(format_alignment(*a, full_sequences=True))"
   ]
  },
  {
   "cell_type": "code",
   "execution_count": 7,
   "id": "6762889a",
   "metadata": {},
   "outputs": [
    {
     "name": "stdout",
     "output_type": "stream",
     "text": [
      "a1-3 5-P-2 a1-3  -   \n",
      "  |    |             \n",
      "a1-3 5-P-2  -   a1-4 \n",
      "  Score=2\n",
      "\n"
     ]
    }
   ],
   "source": [
    "alignments = pairwise2.align.globalxx(ser_6A['bonds'], ser_6B['bonds'], gap_char=[\"-\"], one_alignment_only=True)\n",
    "\n",
    "for a in alignments: \n",
    "    print(format_alignment(*a, full_sequences=True))"
   ]
  },
  {
   "cell_type": "markdown",
   "id": "657a0dbf",
   "metadata": {},
   "source": [
    "Between 6A and 6B, we can see that they have difference in bonds only. \n",
    "This means, the change in gene sequence resulted in different bonds, but kept the sugars and their modifications.\n"
   ]
  },
  {
   "cell_type": "code",
   "execution_count": 8,
   "id": "635e2526",
   "metadata": {},
   "outputs": [],
   "source": [
    "def compare_serotypes(sero1, sero2):\n",
    "    alignments = pairwise2.align.globalxx(sero1['genes'], sero2['genes'], gap_char=[\"-\"], one_alignment_only=True)\n",
    "    for a in alignments: \n",
    "        print(format_alignment(*a, full_sequences=True))\n",
    "    alignments = pairwise2.align.globalxx(sero1['sugars'], sero2['sugars'], gap_char=[\"-\"], one_alignment_only=True)\n",
    "    for a in alignments: \n",
    "        print(format_alignment(*a, full_sequences=True))\n",
    "    alignments = pairwise2.align.globalxx(sero1['bonds'], sero2['bonds'], gap_char=[\"-\"], one_alignment_only=True)\n",
    "    for a in alignments: \n",
    "        print(format_alignment(*a, full_sequences=True))"
   ]
  },
  {
   "cell_type": "code",
   "execution_count": 9,
   "id": "98af284c",
   "metadata": {},
   "outputs": [
    {
     "name": "stdout",
     "output_type": "stream",
     "text": [
      "wzg wzh wzd wze wchA wchF wcwA wcwC wcwD HG140 wcwF wcwG wcwH  -    -    -    -   wzy  -   wzx rmlA rmlC rmlB rmlD glf tnp aliA \n",
      " |   |   |   |    |    |                                                           |        |    |    |    |    |   |        |  \n",
      "wzg wzh wzd wze wchA wchF  -    -    -     -    -    -    -   wcwI wcwL wcwK wcxU wzy rsbF wzx rmlA rmlC rmlB rmlD glf  -  aliA \n",
      "  Score=14\n",
      "\n",
      "glucose rhamnose galactose N-acetylgalactosamine rhamnose N-acetylglucosamine    -       -        -     \n",
      "   |        |                                        |             |                                    \n",
      "glucose rhamnose     -               -           rhamnose N-acetylglucosamine glucose rhamnose ribose-f \n",
      "  Score=4\n",
      "\n",
      "b1-4 a1-3 b1-6 a1-4 a1-2  -     -    -    -   \n",
      "  |                   |                       \n",
      "b1-4  -    -    -   a1-2 a1-2 a1P-6 a1-3 b1-4 \n",
      "  Score=2\n",
      "\n"
     ]
    }
   ],
   "source": [
    "compare_serotypes(ser_7A, ser_7B)"
   ]
  },
  {
   "cell_type": "code",
   "execution_count": 10,
   "id": "86114049",
   "metadata": {},
   "outputs": [
    {
     "name": "stdout",
     "output_type": "stream",
     "text": [
      "wzg wzh wzd wze wchA wchF wcwA wcwC wcwD HG140 wcwF wcwG wcwH wzy wzx rmlA rmlC rmlB rmlD glf tnp aliA \n",
      " |   |   |   |    |    |    |    |    |    |     |    |    |   |   |    |    |    |    |   |   |    |  \n",
      "wzg wzh wzd wze wchA wchF wcwA wcwC wcwD HG140 wcwF wcwG wcwH wzy wzx rmlA rmlC rmlB rmlD glf tnp aliA \n",
      "  Score=22\n",
      "\n",
      "glucose rhamnose galactose N-acetylgalactosamine rhamnose N-acetylglucosamine \n",
      "   |        |        |               |               |             |          \n",
      "glucose rhamnose galactose N-acetylgalactosamine rhamnose N-acetylglucosamine \n",
      "  Score=6\n",
      "\n",
      "b1-4 a1-3 b1-6 a1-4 a1-2 \n",
      "  |    |    |    |    |  \n",
      "b1-4 a1-3 b1-6 a1-4 a1-2 \n",
      "  Score=5\n",
      "\n"
     ]
    }
   ],
   "source": [
    "compare_serotypes(ser_7A, ser_7F)"
   ]
  },
  {
   "cell_type": "code",
   "execution_count": null,
   "id": "eac4cd03",
   "metadata": {},
   "outputs": [],
   "source": []
  }
 ],
 "metadata": {
  "kernelspec": {
   "display_name": "Python 3 (ipykernel)",
   "language": "python",
   "name": "python3"
  },
  "language_info": {
   "codemirror_mode": {
    "name": "ipython",
    "version": 3
   },
   "file_extension": ".py",
   "mimetype": "text/x-python",
   "name": "python",
   "nbconvert_exporter": "python",
   "pygments_lexer": "ipython3",
   "version": "3.8.10"
  }
 },
 "nbformat": 4,
 "nbformat_minor": 5
}
